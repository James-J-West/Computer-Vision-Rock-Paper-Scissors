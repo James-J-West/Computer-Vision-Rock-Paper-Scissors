{
 "cells": [
  {
   "cell_type": "code",
   "execution_count": 12,
   "metadata": {},
   "outputs": [],
   "source": [
    "import random\n",
    "import re\n",
    "import cv2\n",
    "from keras.models import load_model\n",
    "import numpy as np\n",
    "import time"
   ]
  },
  {
   "cell_type": "code",
   "execution_count": null,
   "metadata": {},
   "outputs": [],
   "source": [
    "def get_computer_choice():\n",
    "    choice_lst = [\"rock\", \"paper\", \"scissors\"]\n",
    "    choice = random.choice(choice_lst)\n",
    "    return choice"
   ]
  },
  {
   "cell_type": "code",
   "execution_count": null,
   "metadata": {},
   "outputs": [],
   "source": [
    "def get_user_choice():\n",
    "    choice_lst = [\"rock\", \"paper\", \"scissors\"]\n",
    "    player_choice = None\n",
    "    while player_choice not in choice_lst:\n",
    "        player_choice = input(\"Please pick from Rock, Paper or Scissors: \").lower()\n",
    "    return player_choice"
   ]
  },
  {
   "cell_type": "code",
   "execution_count": null,
   "metadata": {},
   "outputs": [],
   "source": [
    "def get_winner(user_choice, computer_choice):\n",
    "    if user_choice == computer_choice:\n",
    "        print(\"tie! \\n\")\n",
    "    if user_choice == \"rock\":\n",
    "        if computer_choice == \"paper\":\n",
    "            print(\"You Lose \\n\")\n",
    "        elif computer_choice == \"scissors\":\n",
    "            print(\"You Win! \\n\")\n",
    "    if user_choice == \"paper\":\n",
    "        if computer_choice == \"scissors\":\n",
    "            print(\"You Lose \\n\")\n",
    "        elif computer_choice == \"rock\":\n",
    "            print(\"You Win! \\n\")\n",
    "    if user_choice == \"scissors\":\n",
    "        if computer_choice == \"rock\":\n",
    "            print(\"You Lose \\n\")\n",
    "        elif computer_choice == \"paper\":\n",
    "            print(\"You Win! \\n\")\n"
   ]
  },
  {
   "cell_type": "code",
   "execution_count": 10,
   "metadata": {},
   "outputs": [],
   "source": [
    "def play():\n",
    "\n",
    "    ynlst = [\"y\", \"n\"]\n",
    "    while True:\n",
    "        comp = get_computer_choice()\n",
    "        user = get_user_choice()\n",
    "\n",
    "        get_winner(user, comp)\n",
    "\n",
    "        print(\"User:\", user)\n",
    "        print(\"Computer:\", comp, \"\\n\")\n",
    "\n",
    "        \n",
    "\n",
    "        play_again = None\n",
    "\n",
    "        while play_again not in ynlst:\n",
    "            play_again=input(\"Play again? (y/n): \").lower()\n",
    "\n",
    "        if play_again != \"y\":\n",
    "            break\n",
    "\n",
    "    print(\"Bye!\")"
   ]
  },
  {
   "cell_type": "code",
   "execution_count": 13,
   "metadata": {},
   "outputs": [],
   "source": [
    "play()"
   ]
  },
  {
   "cell_type": "code",
   "execution_count": null,
   "metadata": {},
   "outputs": [],
   "source": []
  }
 ],
 "metadata": {
  "interpreter": {
   "hash": "dcecbe2e0fbab1cbfc8aa99690983752a505da214007e1c66091cd7b8d6c51a4"
  },
  "kernelspec": {
   "display_name": "Python 3.9.12 ('rock')",
   "language": "python",
   "name": "python3"
  },
  "language_info": {
   "codemirror_mode": {
    "name": "ipython",
    "version": 3
   },
   "file_extension": ".py",
   "mimetype": "text/x-python",
   "name": "python",
   "nbconvert_exporter": "python",
   "pygments_lexer": "ipython3",
   "version": "3.9.12"
  },
  "orig_nbformat": 4
 },
 "nbformat": 4,
 "nbformat_minor": 2
}
