{
 "cells": [
  {
   "cell_type": "code",
   "execution_count": 26,
   "metadata": {},
   "outputs": [],
   "source": [
    "import cv2\n",
    "from keras.models import load_model\n",
    "import numpy as np\n",
    "import time\n",
    "\n",
    "\n",
    "def get_prediction():\n",
    "    indexs = [\"rock\", \"paper\", \"scissors\", \"nothing\"]\n",
    "\n",
    "\n",
    "\n",
    "    model = load_model('keras_model.h5')\n",
    "    cap = cv2.VideoCapture(0)\n",
    "    data = np.ndarray(shape=(1, 224, 224, 3), dtype=np.float32)\n",
    "\n",
    "    inds = []\n",
    "\n",
    "    print(\"3\")\n",
    "    time.sleep(1)\n",
    "    print(\"2\")\n",
    "    time.sleep(1)\n",
    "    print(\"1\")\n",
    "    time.sleep(1)\n",
    "    print(\"START!\")\n",
    "\n",
    "    t_end = time.time() + 60 * 0.25\n",
    "    while time.time() < t_end: \n",
    "        ret, frame = cap.read()\n",
    "        resized_frame = cv2.resize(frame, (224, 224), interpolation = cv2.INTER_AREA)\n",
    "        image_np = np.array(resized_frame)\n",
    "        normalized_image = (image_np.astype(np.float32) / 127.0) - 1 # Normalize the image\n",
    "        data[0] = normalized_image\n",
    "        prediction = model.predict(data)\n",
    "        cv2.imshow('frame', frame)\n",
    "        # Press q to close the window\n",
    "        max = np.max(prediction)\n",
    "        ind = np.argmax(prediction)\n",
    "        inds.append(ind)\n",
    "        choice = indexs[ind]\n",
    "        #print(max, choice)\n",
    "        if cv2.waitKey(1) & 0xFF == ord('q'):\n",
    "            break\n",
    "    # After the loop release the cap object\n",
    "    cap.release()\n",
    "    # Destroy all the windows\n",
    "    cv2.destroyAllWindows()\n",
    "\n",
    "    values, counts = np.unique(inds, return_counts=True)\n",
    "    print(values)\n",
    "    print(counts)\n",
    "    choice_final = indexs[np.argmax(counts)]\n",
    "\n",
    "    if len(values) == 1:\n",
    "        if values[0] == 0:\n",
    "            choice_final = \"rock\"\n",
    "        if values[0] == 1:\n",
    "            choice_final = \"paper\"\n",
    "        if values[0] == 2:\n",
    "            choice_final = \"scissors\"\n",
    "        if values[0] == 3:\n",
    "            choice_final = \"nothing\"\n",
    "\n",
    "    return choice_final"
   ]
  },
  {
   "cell_type": "code",
   "execution_count": 27,
   "metadata": {},
   "outputs": [
    {
     "name": "stdout",
     "output_type": "stream",
     "text": [
      "WARNING:tensorflow:No training configuration found in the save file, so the model was *not* compiled. Compile it manually.\n",
      "3\n",
      "2\n",
      "1\n",
      "START!\n",
      "[3]\n",
      "[209]\n"
     ]
    },
    {
     "data": {
      "text/plain": [
       "'nothing'"
      ]
     },
     "execution_count": 27,
     "metadata": {},
     "output_type": "execute_result"
    }
   ],
   "source": [
    "get_prediction()"
   ]
  },
  {
   "cell_type": "code",
   "execution_count": null,
   "metadata": {},
   "outputs": [],
   "source": []
  }
 ],
 "metadata": {
  "interpreter": {
   "hash": "dcecbe2e0fbab1cbfc8aa99690983752a505da214007e1c66091cd7b8d6c51a4"
  },
  "kernelspec": {
   "display_name": "Python 3.9.12 ('rock')",
   "language": "python",
   "name": "python3"
  },
  "language_info": {
   "codemirror_mode": {
    "name": "ipython",
    "version": 3
   },
   "file_extension": ".py",
   "mimetype": "text/x-python",
   "name": "python",
   "nbconvert_exporter": "python",
   "pygments_lexer": "ipython3",
   "version": "3.9.12"
  },
  "orig_nbformat": 4
 },
 "nbformat": 4,
 "nbformat_minor": 2
}
